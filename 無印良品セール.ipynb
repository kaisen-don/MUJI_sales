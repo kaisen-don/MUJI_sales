{
  "nbformat": 4,
  "nbformat_minor": 0,
  "metadata": {
    "colab": {
      "name": "無印良品セール.ipynb",
      "provenance": [],
      "collapsed_sections": []
    },
    "kernelspec": {
      "name": "python3",
      "display_name": "Python 3"
    }
  },
  "cells": [
    {
      "cell_type": "code",
      "metadata": {
        "id": "Noi9wdKrW1Am",
        "colab_type": "code",
        "outputId": "34e3b51b-3b09-4f32-f8d4-ac3b844db328",
        "colab": {
          "base_uri": "https://localhost:8080/",
          "height": 489
        }
      },
      "source": [
        "import pandas as pd\n",
        "import requests\n",
        "from bs4 import BeautifulSoup\n",
        "from google.colab import files\n",
        "import time\n",
        "\n",
        "# まずはURL指定と文字化け防止\n",
        "url = 'https://www.muji.com/jp/ja/store/campaign'\n",
        "response = requests.get(url)\n",
        "response.encoding = response.apparent_encoding\n",
        "\n",
        "# 解析\n",
        "bs = BeautifulSoup(response.text, 'html.parser')\n",
        "\n",
        "\n",
        "# セール品\n",
        "item_tags = bs.find('div', {'class': 'c-common__slide-list--item'})\n",
        "item_atags = item_tags.find_all('a')\n",
        "\n",
        "\n",
        "#DataFrameを作る\n",
        "columns = ['name', 'link']\n",
        "df = pd.DataFrame(columns=columns)\n",
        "\n",
        "#atagを回そう\n",
        "for atag in item_atags:\n",
        "    names_included_tag = atag.find('div', {'class': 'p-campaign-product__des'})\n",
        "    names = names_included_tag.find_all('p')\n",
        "    item_detail = ''\n",
        "    for name in names:\n",
        "        item_detail = item_detail + str(name.string) + ' '\n",
        "    name = item_detail\n",
        "    link = 'https://www.muji.com' + atag.get('href')\n",
        "    se = pd.Series([name, link], columns)\n",
        "    # print(se)\n",
        "    df = df.append(se, columns)\n",
        "\n",
        "# CSV出力してダウンロード\n",
        "filename = 'MUJI_LimitedSales.csv'\n",
        "df.to_csv(filename, encoding='utf-8-sig')\n",
        "files.download(filename)"
      ],
      "execution_count": 41,
      "outputs": [
        {
          "output_type": "stream",
          "text": [
            "name                      ベッド本体＋対象マットレス 2点以上お買い上げで15％OFF \n",
            "link    https://www.muji.com/jp/ja/store/cmdty/section...\n",
            "dtype: object\n",
            "name              パルプボードボックス各種 消費税込2,490円の品→消費税込1,990円ほか \n",
            "link    https://www.muji.com/jp/ja/store/cmdty/section...\n",
            "dtype: object\n",
            "name              デスク＋キャビネット＋ワーキングチェア各種 3点以上お買い上げで15％OFF \n",
            "link    https://www.muji.com/jp/ja/store/cmdty/section...\n",
            "dtype: object\n",
            "name          スチールユニットシェルフ各種 消費税込20,900円の品→消費税込17,900円ほか \n",
            "link    https://www.muji.com/jp/ja/store/cmdty/section...\n",
            "dtype: object\n",
            "name                      アナログ時計 消費税込3,990円の品→消費税込1,990円 \n",
            "link    https://www.muji.com/jp/ja/store/cmdty/section...\n",
            "dtype: object\n",
            "name             スタッキングシェルフ各種 消費税込11,900円の品→消費税込9,990円ほか \n",
            "link    https://www.muji.com/jp/ja/store/cmdty/section...\n",
            "dtype: object\n",
            "name                不揃いチョコがけいちご｜3月12日まで 2点以上お買い上げで10％OFF \n",
            "link    https://www.muji.com/jp/ja/store/cmdty/section...\n",
            "dtype: object\n",
            "name                            グリーンティー 2点以上お買い上げで10％OFF \n",
            "link    https://www.muji.com/jp/ja/store/cmdty/section...\n",
            "dtype: object\n",
            "name                     炊き込みごはんの素 消費税込390円の品→消費税込350円ほか \n",
            "link    https://www.muji.com/jp/ja/store/cmdty/section...\n",
            "dtype: object\n"
          ],
          "name": "stdout"
        }
      ]
    }
  ]
}